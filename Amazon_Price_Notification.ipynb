{
 "cells": [
  {
   "cell_type": "code",
   "execution_count": 1,
   "metadata": {},
   "outputs": [],
   "source": [
    "import smtplib # sending email allert\n",
    "import time \n",
    "import requests as rq # to communicate with HTML page\n",
    "from bs4 import BeautifulSoup # to scrape web elements from HTML page"
   ]
  },
  {
   "cell_type": "code",
   "execution_count": 2,
   "metadata": {},
   "outputs": [
    {
     "name": "stdout",
     "output_type": "stream",
     "text": [
      "1357\n",
      "Hey, email has been sent!\n"
     ]
    },
    {
     "ename": "KeyboardInterrupt",
     "evalue": "",
     "output_type": "error",
     "traceback": [
      "\u001b[1;31m---------------------------------------------------------------------------\u001b[0m",
      "\u001b[1;31mKeyboardInterrupt\u001b[0m                         Traceback (most recent call last)",
      "\u001b[1;32m<ipython-input-2-698a446b7dba>\u001b[0m in \u001b[0;36m<module>\u001b[1;34m\u001b[0m\n\u001b[0;32m     38\u001b[0m \u001b[1;32mwhile\u001b[0m \u001b[1;32mTrue\u001b[0m\u001b[1;33m:\u001b[0m\u001b[1;33m\u001b[0m\u001b[1;33m\u001b[0m\u001b[0m\n\u001b[0;32m     39\u001b[0m     \u001b[0mget_price\u001b[0m\u001b[1;33m(\u001b[0m\u001b[1;33m)\u001b[0m\u001b[1;33m\u001b[0m\u001b[1;33m\u001b[0m\u001b[0m\n\u001b[1;32m---> 40\u001b[1;33m     \u001b[0mtime\u001b[0m\u001b[1;33m.\u001b[0m\u001b[0msleep\u001b[0m\u001b[1;33m(\u001b[0m\u001b[1;36m60\u001b[0m\u001b[1;33m)\u001b[0m\u001b[1;33m\u001b[0m\u001b[1;33m\u001b[0m\u001b[0m\n\u001b[0m",
      "\u001b[1;31mKeyboardInterrupt\u001b[0m: "
     ]
    }
   ],
   "source": [
    "site = \"https://www.amazon.in/Apple-MacBook-Chip-13-inch-512GB/dp/B08N5WRWNW/ref=sr_1_3?dchild=1&keywords=macbook&qid=1621916598&sr=8-3\"\n",
    "header = {'User-Agent':\"Mozilla/5.0 (Windows NT 10.0; Win64; x64) AppleWebKit/537.36 (KHTML, like Gecko) Chrome/90.0.4430.212 Safari/537.36\"}\n",
    "\n",
    "def get_price():\n",
    "    \n",
    "    html = rq.get(site, headers=header).text\n",
    "    \n",
    "    soup = BeautifulSoup(html,'html.parser')\n",
    "    price = [i.get_text() for i in\n",
    "             soup.find_all('span', {'class': 'a-size-medium a-color-price priceBlockBuyingPriceString'})]\n",
    "\n",
    "    final_price = ''.join(price)[2:8]\n",
    "    final_price = int(final_price.replace(',', ''))\n",
    "    \n",
    "    print(final_price)\n",
    "\n",
    "    if final_price < 150000:\n",
    "        send_email()\n",
    "        \n",
    "def send_email():\n",
    "    \n",
    "    server = smtplib.SMTP('smtp.gmail.com', 587)\n",
    "    server.ehlo()\n",
    "    server.starttls()\n",
    "    server.ehlo()\n",
    "\n",
    "    server.login('insert_your_email_here','password')\n",
    "\n",
    "    subject = \"Price fell down\"\n",
    "    body = \"Check this link: https://www.amazon.in/Apple-MacBook-Chip-13-inch-512GB/dp/B08N5WRWNW/ref=sr_1_3?dchild=1&keywords=macbook&qid=1621916598&sr=8-3\"\n",
    "    msg = f\"Subject:{subject}\\n\\n{body}\"\n",
    "\n",
    "    server.sendmail('shahriniman97@gmail.com', 'shahriniman97@gmail.com', msg)          \n",
    "    server.quit()\n",
    "    \n",
    "    print(\"Hey, email has been sent!\") \n",
    "\n",
    "    \n",
    "while True:\n",
    "    get_price()\n",
    "    time.sleep(60)"
   ]
  }
 ],
 "metadata": {
  "kernelspec": {
   "display_name": "Python 3",
   "language": "python",
   "name": "python3"
  },
  "language_info": {
   "codemirror_mode": {
    "name": "ipython",
    "version": 3
   },
   "file_extension": ".py",
   "mimetype": "text/x-python",
   "name": "python",
   "nbconvert_exporter": "python",
   "pygments_lexer": "ipython3",
   "version": "3.8.5"
  }
 },
 "nbformat": 4,
 "nbformat_minor": 4
}
